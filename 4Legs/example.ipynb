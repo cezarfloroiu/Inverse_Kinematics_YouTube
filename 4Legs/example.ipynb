{
 "cells": [
  {
   "cell_type": "code",
   "execution_count": 1,
   "metadata": {},
   "outputs": [
    {
     "data": {
      "application/vnd.jupyter.widget-view+json": {
       "model_id": "b8058f16eb6b440490dd123f21c43d72",
       "version_major": 2,
       "version_minor": 0
      },
      "text/plain": [
       "interactive(children=(FloatSlider(value=-0.15, description='h', max=-0.1, min=-0.25, step=0.01), FloatSlider(v…"
      ]
     },
     "metadata": {},
     "output_type": "display_data"
    }
   ],
   "source": [
    "import matplotlib.pyplot as plt\n",
    "from kinematics import kinematics\n",
    "from ipywidgets import *\n",
    "\n",
    "# make the plot larger\n",
    "plt.rcParams['figure.dpi'] = 150\n",
    "\n",
    "k = kinematics()\n",
    "\n",
    "def update(h, roll, pitch, yaw, cx, cy, cz):\n",
    "    center_offset = [cx,cy,cz]\n",
    "    rot = [roll, pitch, yaw]\n",
    "    k.plot_robot(xyz=[[0,-0,h],[0,0,h],[0,-0,h],[0.0,-0,h]], rot=rot, \n",
    "                 is_radians=False, center_offset=center_offset)\n",
    "\n",
    "# plot the robot with the sliders for adjusting the rotation and center_offset\n",
    "interact(update, h= widgets.FloatSlider(value=-0.15, min=-0.25, max=-0.10, step=0.01), \n",
    "         roll= widgets.FloatSlider(value=0, min=-20, max=20, step=1),\n",
    "         pitch= widgets.FloatSlider(value=0, min=-20, max=20, step=1),\n",
    "         yaw= widgets.FloatSlider(value=0, min=-20, max=20, step=1),\n",
    "         cx= widgets.FloatSlider(value=0, min=-0.25205/2, max=0.25205/2, step=0.01),\n",
    "         cy= widgets.FloatSlider(value=0, min=-0.15, max=0.15, step=0.01),\n",
    "         cz= widgets.FloatSlider(value=0, min=-0.25, max=0.25, step=0.01));"
   ]
  },
  {
   "cell_type": "code",
   "execution_count": null,
   "metadata": {},
   "outputs": [],
   "source": []
  }
 ],
 "metadata": {
  "kernelspec": {
   "display_name": "Python 3.8.3 ('base')",
   "language": "python",
   "name": "python3"
  },
  "language_info": {
   "codemirror_mode": {
    "name": "ipython",
    "version": 3
   },
   "file_extension": ".py",
   "mimetype": "text/x-python",
   "name": "python",
   "nbconvert_exporter": "python",
   "pygments_lexer": "ipython3",
   "version": "3.8.3"
  },
  "orig_nbformat": 4,
  "vscode": {
   "interpreter": {
    "hash": "32a50c6b293b0a60f101aff677832b1c5ca031d5939fddaf2120481c19afd708"
   }
  }
 },
 "nbformat": 4,
 "nbformat_minor": 2
}
